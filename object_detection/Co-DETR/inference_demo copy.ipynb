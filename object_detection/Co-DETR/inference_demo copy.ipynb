{
 "cells": [
  {
   "cell_type": "code",
   "execution_count": 2,
   "metadata": {},
   "outputs": [
    {
     "name": "stderr",
     "output_type": "stream",
     "text": [
      "/home/ngoc/anaconda3/envs/codetr/lib/python3.7/site-packages/torchvision/io/image.py:13: UserWarning: Failed to load image Python extension: libtorch_cuda_cu.so: cannot open shared object file: No such file or directory\n",
      "  warn(f\"Failed to load image Python extension: {e}\")\n",
      "WARNING:root:Pytorch pre-release version 1.11.0.post202 - assuming intent to test it\n"
     ]
    }
   ],
   "source": [
    "from mmdet.apis import init_detector, inference_detector, show_result_pyplot\n",
    "from mmdet.core import DatasetEnum\n",
    "import mmcv\n",
    "import json\n",
    "import os"
   ]
  },
  {
   "cell_type": "code",
   "execution_count": 3,
   "metadata": {},
   "outputs": [],
   "source": [
    "# # config_file = '/home/ngoc/githubs/aux/object_detection/Co-DETR/configs/faster_rcnn/faster_rcnn_r50_fpn_1x_coco.py'\n",
    "# # checkpoint_file = '/home/ngoc/githubs/aux/object_detection/Co-DETR/faster_rcnn_r50_fpn_1x_coco_20200130-047c8118.pth'\n",
    "\n",
    "# config_file = '/home/ngoc/githubs/aux/object_detection/Co-DETR/projects/configs/co_dino/co_dino_5scale_lsj_vit_large_lvis.py'\n",
    "# checkpoint_file = '/home/ngoc/githubs/aux/object_detection/Co-DETR/co_dino_5scale_lsj_vit_large_lvis.pth'\n",
    "# # build the model from a config file and a checkpoint file\n",
    "# model = init_detector(config_file, checkpoint_file, DatasetEnum.LVIS, device='cuda:0')"
   ]
  },
  {
   "cell_type": "code",
   "execution_count": 5,
   "metadata": {},
   "outputs": [],
   "source": [
    "# with open(\"/home/ngoc/githubs/aux/object_detection/image_sample.json\", \"r\") as file:\n",
    "#     random_images  = json.load(file)"
   ]
  },
  {
   "cell_type": "code",
   "execution_count": 6,
   "metadata": {},
   "outputs": [],
   "source": [
    "# threshold = 0.5\n",
    "# image_dir  =  '/mnt/datasets/llava_data/llava_second_stage'\n",
    "# imge_out_dir = f\"/home/ngoc/githubs/aux/results/images/det/codetr/{threshold}\"\n"
   ]
  },
  {
   "cell_type": "code",
   "execution_count": 5,
   "metadata": {},
   "outputs": [],
   "source": [
    "import pickle"
   ]
  },
  {
   "cell_type": "code",
   "execution_count": 7,
   "metadata": {},
   "outputs": [],
   "source": [
    "with open(\"/home/ngoc/githubs/aux/object_detection/Co-DETR/bbox_best.pkl\", 'rb') as file:\n",
    "    # Load the object from the pickle file\n",
    "    results = pickle.load(file)"
   ]
  },
  {
   "cell_type": "code",
   "execution_count": null,
   "metadata": {},
   "outputs": [],
   "source": []
  },
  {
   "cell_type": "code",
   "execution_count": 7,
   "metadata": {},
   "outputs": [
    {
     "name": "stdout",
     "output_type": "stream",
     "text": [
      "[0|1000]\n"
     ]
    },
    {
     "name": "stderr",
     "output_type": "stream",
     "text": [
      "/home/ngoc/githubs/aux/object_detection/Co-DETR/mmdet/datasets/utils.py:70: UserWarning: \"ImageToTensor\" pipeline is replaced by \"DefaultFormatBundle\" for batch inference. It is recommended to manually replace it in the test data pipeline in your config file.\n",
      "  'data pipeline in your config file.', UserWarning)\n",
      "/home/ngoc/githubs/aux/object_detection/Co-DETR/mmdet/models/utils/positional_encoding.py:81: UserWarning: __floordiv__ is deprecated, and its behavior will change in a future version of pytorch. It currently rounds toward 0 (like the 'trunc' function NOT 'floor'). This results in incorrect rounding for negative values. To keep the current behavior, use torch.div(a, b, rounding_mode='trunc'), or for actual floor division, use torch.div(a, b, rounding_mode='floor').\n",
      "  dim_t = self.temperature**(2 * (dim_t // 2) / self.num_feats)\n",
      "/home/ngoc/anaconda3/envs/codetr/lib/python3.7/site-packages/torch/functional.py:568: UserWarning: torch.meshgrid: in an upcoming release, it will be required to pass the indexing argument. (Triggered internally at  /home/conda/feedstock_root/build_artifacts/pytorch-recipe_1654781757657/work/aten/src/ATen/native/TensorShape.cpp:2227.)\n",
      "  return _VF.meshgrid(tensors, **kwargs)  # type: ignore[attr-defined]\n",
      "/home/ngoc/githubs/aux/object_detection/Co-DETR/projects/models/transformer.py:476: UserWarning: __floordiv__ is deprecated, and its behavior will change in a future version of pytorch. It currently rounds toward 0 (like the 'trunc' function NOT 'floor'). This results in incorrect rounding for negative values. To keep the current behavior, use torch.div(a, b, rounding_mode='trunc'), or for actual floor division, use torch.div(a, b, rounding_mode='floor').\n",
      "  dim_t = 10000**(2 * (dim_t // 2) / pos_feat)\n",
      "/home/ngoc/githubs/aux/object_detection/Co-DETR/projects/models/co_deformable_detr_head.py:1031: UserWarning: __floordiv__ is deprecated, and its behavior will change in a future version of pytorch. It currently rounds toward 0 (like the 'trunc' function NOT 'floor'). This results in incorrect rounding for negative values. To keep the current behavior, use torch.div(a, b, rounding_mode='trunc'), or for actual floor division, use torch.div(a, b, rounding_mode='floor').\n",
      "  bbox_index = indexes // self.num_classes\n"
     ]
    },
    {
     "name": "stdout",
     "output_type": "stream",
     "text": [
      "[100|1000]\n",
      "[200|1000]\n",
      "[300|1000]\n",
      "[400|1000]\n",
      "[500|1000]\n",
      "[600|1000]\n",
      "[700|1000]\n",
      "[800|1000]\n",
      "[900|1000]\n"
     ]
    }
   ],
   "source": [
    "for idx, image_file in enumerate(random_images):\n",
    "    if idx % 100  == 0:\n",
    "        print(f\"[{idx}|{len(random_images)}]\")\n",
    "    image_pth = os.path.join(image_dir, image_file)\n",
    "    image_out_pth = os.path.join(imge_out_dir, image_file.replace(\"/\", \"-\"))\n",
    "    box_results = inference_detector(model, image_pth)\n",
    "    show_result_pyplot(model, image_pth, box_results)"
   ]
  },
  {
   "cell_type": "code",
   "execution_count": 8,
   "metadata": {},
   "outputs": [
    {
     "data": {
      "text/plain": [
       "1000"
      ]
     },
     "execution_count": 8,
     "metadata": {},
     "output_type": "execute_result"
    }
   ],
   "source": [
    "len(random_images)"
   ]
  },
  {
   "cell_type": "code",
   "execution_count": 9,
   "metadata": {},
   "outputs": [
    {
     "ename": "SyntaxError",
     "evalue": "invalid syntax (3588437837.py, line 1)",
     "output_type": "error",
     "traceback": [
      "\u001b[0;36m  File \u001b[0;32m\"/tmp/ipykernel_2532972/3588437837.py\"\u001b[0;36m, line \u001b[0;32m1\u001b[0m\n\u001b[0;31m    31*\u001b[0m\n\u001b[0m       ^\u001b[0m\n\u001b[0;31mSyntaxError\u001b[0m\u001b[0;31m:\u001b[0m invalid syntax\n"
     ]
    }
   ],
   "source": [
    "31*"
   ]
  }
 ],
 "metadata": {
  "kernelspec": {
   "display_name": "Python 3",
   "language": "python",
   "name": "python3"
  },
  "language_info": {
   "codemirror_mode": {
    "name": "ipython",
    "version": 3
   },
   "file_extension": ".py",
   "mimetype": "text/x-python",
   "name": "python",
   "nbconvert_exporter": "python",
   "pygments_lexer": "ipython3",
   "version": "3.7.12"
  },
  "pycharm": {
   "stem_cell": {
    "cell_type": "raw",
    "metadata": {
     "collapsed": false
    },
    "source": []
   }
  }
 },
 "nbformat": 4,
 "nbformat_minor": 4
}
